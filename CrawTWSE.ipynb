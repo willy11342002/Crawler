{
 "cells": [
  {
   "cell_type": "code",
   "execution_count": 1,
   "metadata": {},
   "outputs": [],
   "source": [
    "import requests, datetime, re, time, argparse, utils\n",
    "import pandas as pd"
   ]
  },
  {
   "cell_type": "code",
   "execution_count": 2,
   "metadata": {},
   "outputs": [],
   "source": [
    "# 定義參數必須能夠轉換成 datetime.date 物件\n",
    "def valid_date(d):\n",
    "    try:\n",
    "        # 透過split('-')轉換成list, 將個別的字轉換成整數, 最後將list內的整數傳給datetime.date\n",
    "        return datetime.date(*[int(i) for i in d.split('-')])\n",
    "    # 捕捉轉換失敗的情況\n",
    "    except ValueError:\n",
    "        # 定義錯誤的字串\n",
    "        msg = '{} is not a valid date'.format(d)\n",
    "        raise argparse.ArgumentTypeError(msg)"
   ]
  },
  {
   "cell_type": "code",
   "execution_count": 3,
   "metadata": {},
   "outputs": [],
   "source": [
    "# 設定參數空間\n",
    "parser = argparse.ArgumentParser()\n",
    "parser.add_argument('-n', dest='n_days')\n",
    "parser.add_argument('-d', '--date', help=\"Date - format YYYY-MM-DD \", type=valid_date)\n",
    "\n",
    "# 在jupyter內使用, 必須透過 args=[]的方式帶入參數, 如果是再.py檔中parse_args內就不要給東西\n",
    "args = parser.parse_args(args=['-n', '2', '-d', '2018-09-18'])"
   ]
  },
  {
   "cell_type": "code",
   "execution_count": 4,
   "metadata": {},
   "outputs": [
    {
     "data": {
      "text/plain": [
       "Namespace(date=datetime.date(2018, 9, 18), n_days='2')"
      ]
     },
     "execution_count": 4,
     "metadata": {},
     "output_type": "execute_result"
    }
   ],
   "source": [
    "# 看到date成功設成datetime.date物件, 且n_days設定為2\n",
    "args"
   ]
  },
  {
   "cell_type": "code",
   "execution_count": 5,
   "metadata": {},
   "outputs": [],
   "source": [
    "def craw_twse(date, df=None):\n",
    "    # 設定header, 透過str(i).zfill()可以將整數轉成字串後補零\n",
    "    header = [str(i).zfill(2) for i in ['response', 'json', 'date', date.year, date.month, date.day]]\n",
    "    # 將日期的字串取出, 等等回傳使用\n",
    "    date_string = '{}-{}-{}'.format(*header[-3:])\n",
    "    # 將header設到url中\n",
    "    url = 'http://www.twse.com.tw/exchangeReport/MI_5MINS_INDEX?{}={}&{}={}{}{}'.format(*header)\n",
    "    \n",
    "    while True:\n",
    "        time.sleep(5)\n",
    "        try:\n",
    "            with requests.get(url) as response:\n",
    "                # 取出json物件\n",
    "                j = response.json()\n",
    "                \n",
    "                # 取出fields以及data放進DataFrame中\n",
    "                df = pd.DataFrame(columns=j['fields'])\n",
    "                for data in j['data']:\n",
    "                    df.loc[data[0]] = data\n",
    "                \n",
    "                # 調整DataFrame成為我們想要的格式\n",
    "                df.rename(columns={'時間':'Time', '發行量加權股價指數':'TWSE', '電子類指數':'TE', '金融保險類指數':'TF'}, inplace=True)\n",
    "                df.drop(columns=[col for col in df.columns.values if re.search('[\\u4e00-\\u9fa5]', col)], inplace=True)\n",
    "                df = df.set_index('Time')\n",
    "                df.index.name = df.index.name=None\n",
    "                \n",
    "                # 印出完成字樣, 回傳日期字串及DataFrame, 記得把迴圈break\n",
    "                print(url[-8:], 'Successed.')\n",
    "                return date_string, df\n",
    "                break\n",
    "        \n",
    "        # 捕捉ConnectionError\n",
    "        except requests.exceptions.ConnectionError:\n",
    "            print(url[-8:], 'Failed.')\n",
    "            \n",
    "        # 捕捉KeyError, 這會發生在上方建立 DataFrame的時候, 判斷是並沒有fields欄位, 該錯誤會在非交易日發生\n",
    "        except KeyError :\n",
    "            print(url[-8:], 'Not a bussiness day.')\n",
    "            return date_string, None\n",
    "            break"
   ]
  },
  {
   "cell_type": "code",
   "execution_count": 6,
   "metadata": {},
   "outputs": [],
   "source": [
    "def main():\n",
    "    # 從args中拿取變數, 沒東西就用預設從今天往回起算30天\n",
    "    date = datetime.date.today() if args.date is None else args.date\n",
    "    n_days = 30 if args.n_days is None else int(args.n_days)\n",
    "    \n",
    "    # 試著打開檔案, 失敗就直接建立空的字典\n",
    "    try:\n",
    "        data = utils.load_obj('twse.pkl')\n",
    "    except:\n",
    "        data = {}\n",
    "        \n",
    "    # 跑回圈抓資料, 先放進rawdata中, 再放進字典中\n",
    "    days = [date - datetime.timedelta(i) for i in range(n_days)]\n",
    "    rawdata = [craw_twse(day) for day in days]\n",
    "    for date_string, df in rawdata:\n",
    "        data[date_string] = df\n",
    "    \n",
    "    # 使用二進位儲存, 並印出完成字樣\n",
    "    utils.save_obj(data, 'data/twse.pkl')\n",
    "    print('Finished.')\n",
    "    return data"
   ]
  },
  {
   "cell_type": "code",
   "execution_count": 7,
   "metadata": {},
   "outputs": [
    {
     "name": "stdout",
     "output_type": "stream",
     "text": [
      "20180918 Successed.\n",
      "20180917 Successed.\n",
      "Finished.\n"
     ]
    }
   ],
   "source": [
    "# 執行, 看到從20180918開始, 並只有爬兩天, 完成\n",
    "if __name__ == '__main__':\n",
    "    data = main()"
   ]
  },
  {
   "cell_type": "code",
   "execution_count": null,
   "metadata": {},
   "outputs": [],
   "source": []
  }
 ],
 "metadata": {
  "kernelspec": {
   "display_name": "Python 3",
   "language": "python",
   "name": "python3"
  },
  "language_info": {
   "codemirror_mode": {
    "name": "ipython",
    "version": 3
   },
   "file_extension": ".py",
   "mimetype": "text/x-python",
   "name": "python",
   "nbconvert_exporter": "python",
   "pygments_lexer": "ipython3",
   "version": "3.6.5"
  }
 },
 "nbformat": 4,
 "nbformat_minor": 2
}
